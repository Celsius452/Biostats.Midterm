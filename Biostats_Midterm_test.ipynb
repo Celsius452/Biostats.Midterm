{
  "nbformat": 4,
  "nbformat_minor": 0,
  "metadata": {
    "colab": {
      "provenance": [],
      "collapsed_sections": [],
      "include_colab_link": true
    },
    "kernelspec": {
      "name": "ir",
      "display_name": "R"
    },
    "language_info": {
      "name": "R"
    }
  },
  "cells": [
    {
      "cell_type": "markdown",
      "metadata": {
        "id": "view-in-github",
        "colab_type": "text"
      },
      "source": [
        "<a href=\"https://colab.research.google.com/github/Celsius452/Biostats.Midterm/blob/main/Biostats_Midterm_test.ipynb\" target=\"_parent\"><img src=\"https://colab.research.google.com/assets/colab-badge.svg\" alt=\"Open In Colab\"/></a>"
      ]
    },
    {
      "cell_type": "markdown",
      "source": [
        "# **Dataset 1**"
      ],
      "metadata": {
        "id": "2sNXgyI6pwsq"
      }
    },
    {
      "cell_type": "code",
      "source": [
        "install.packages('ggplot2')\n",
        "install.packages('reshape2')\n",
        "install.packages('png')\n"
      ],
      "metadata": {
        "id": "eTL0gl8QoX9f",
        "colab": {
          "base_uri": "https://localhost:8080/"
        },
        "outputId": "5d5094e3-b77c-413b-a6af-43f7e01ae0b6"
      },
      "execution_count": null,
      "outputs": [
        {
          "output_type": "stream",
          "name": "stderr",
          "text": [
            "Installing package into ‘/usr/local/lib/R/site-library’\n",
            "(as ‘lib’ is unspecified)\n",
            "\n",
            "Installing package into ‘/usr/local/lib/R/site-library’\n",
            "(as ‘lib’ is unspecified)\n",
            "\n",
            "also installing the dependencies ‘plyr’, ‘Rcpp’\n",
            "\n",
            "\n",
            "Installing package into ‘/usr/local/lib/R/site-library’\n",
            "(as ‘lib’ is unspecified)\n",
            "\n"
          ]
        }
      ]
    },
    {
      "cell_type": "code",
      "source": [
        "library(readxl)\n",
        "train <- read.csv(\"train.csv\")"
      ],
      "metadata": {
        "id": "ekp94uBMpZeE"
      },
      "execution_count": null,
      "outputs": []
    },
    {
      "cell_type": "markdown",
      "source": [
        "# **Part 1**"
      ],
      "metadata": {
        "id": "6ym6mOzrOmCv"
      }
    },
    {
      "cell_type": "code",
      "execution_count": null,
      "metadata": {
        "id": "O3y2NA8yiId9"
      },
      "outputs": [],
      "source": [
        "#Dataset 1 Part 1\n",
        "#function to draw the digit represented by each row\n",
        "#input the train.csv data set and the row you want to draw\n",
        "draw_digit<-function(data,row){\n",
        "  #import the relevant libraries\n",
        "  library(ggplot2)\n",
        "  library(reshape2)\n",
        "  \n",
        "  #intialize the matrix with the first 28 pixels\n",
        "  pixel_grid<-data[row,2:29]\n",
        "  #rename the columns\n",
        "  colnames(pixel_grid) <- paste(\"Col\", 1:28)\n",
        "  \n",
        "  \n",
        "  #put every 28 entries into a new row, starting at second row\n",
        "  for(x in 1:27){\n",
        "    #define first pixel in the row\n",
        "    start<-x*28+2\n",
        "    #define last pixel in the row\n",
        "    end<-start+27\n",
        "    #hold the data from those pixels temporarily\n",
        "    temp_row<-data[row,start:end]\n",
        "    #make the column names match the full matrix\n",
        "    colnames(temp_row) <- paste(\"Col\", 1:28)\n",
        "    #add the temp row to the full matrix\n",
        "    pixel_grid<-rbind(pixel_grid,temp_row)\n",
        "  }\n",
        "  #flip the matrix\n",
        "  pixel_grid<-pixel_grid[nrow(pixel_grid):1,]\n",
        "  #name the rows\n",
        "  rownames(pixel_grid) <- paste(\"Row\", 1:28)\n",
        "  #melt the data so ggplot can interpret it\n",
        "  #also transpose at this point\n",
        "  m<-melt(as.matrix(t(pixel_grid)))\n",
        "  #give column names to the melted data\n",
        "  colnames(m) <- c(\"x\", \"y\", \"value\")\n",
        "  #define the theme for the heatmap - remove axis etc\n",
        "  theme<-theme(legend.position=\"none\",axis.title.x=element_blank(),axis.text.x=element_blank(),axis.ticks.x=element_blank(),axis.title.y=element_blank(),axis.text.y=element_blank(),axis.ticks.y=element_blank())\n",
        "  #plot the data as a greyscale heatmap\n",
        "  ggplot(m, aes(x=x,y=y,fill=value))+scale_fill_gradient(limits = c(0, 255), low = 'white', high = 'black')+geom_tile()+theme\n",
        "}"
      ]
    },
    {
      "cell_type": "code",
      "source": [
        "#call the function on a row of your choice\n",
        "draw_digit(train, 897)"
      ],
      "metadata": {
        "id": "oP-RRQPQp8dS",
        "colab": {
          "base_uri": "https://localhost:8080/",
          "height": 437
        },
        "outputId": "3d8b3a77-155b-4817-efde-f15b17518bff"
      },
      "execution_count": null,
      "outputs": [
        {
          "output_type": "display_data",
          "data": {
            "text/plain": [
              "plot without title"
            ],
            "image/png": "[encoded data removed]"
          },
          "metadata": {
            "image/png": {
              "width": 420,
              "height": 420
            }
          }
        }
      ]
    },
    {
      "cell_type": "markdown",
      "source": [
        "# **Part 2**"
      ],
      "metadata": {
        "id": "VQc38KaQOwqD"
      }
    },
    {
      "cell_type": "code",
      "source": [
        "#Dataset 1 Part 2\n",
        "#create empty dataframe for the averages\n",
        "digit_averages<-train[FALSE,]\n",
        "#loop to get the averages for each digit 0-9\n",
        "for(x in 0:9){\n",
        "  #subset the data for the digit \n",
        "  digit_subset<- train[which(train[,1]==x),]\n",
        "  #average the columns\n",
        "  digit_subset<-colMeans(digit_subset)\n",
        "  #add it to the dataset of averages\n",
        "  digit_averages<-rbind(digit_averages,digit_subset)\n",
        "}\n",
        "#rename the columns to the digit they represent, otherwise the labels start at 1 instead of 0\n",
        "row.names(digit_averages)<-0:9\n",
        "#call the function on the average data for the digit of your choice\n",
        "draw_digit(digit_averages,\"1\")"
      ],
      "metadata": {
        "id": "VgIjyjUgoj-J",
        "colab": {
          "base_uri": "https://localhost:8080/",
          "height": 437
        },
        "outputId": "054015fa-eb6b-4214-cdf5-8bd02a295235"
      },
      "execution_count": null,
      "outputs": [
        {
          "output_type": "display_data",
          "data": {
            "text/plain": [
              "plot without title"
            ],
            "image/png": "[encoded data removed]"
          },
          "metadata": {
            "image/png": {
              "width": 420,
              "height": 420
            }
          }
        }
      ]
    },
    {
      "cell_type": "markdown",
      "source": [
        "# **Part 2 b.**\n"
      ],
      "metadata": {
        "id": "_BzXj0OEQjYE"
      }
    },
    {
      "cell_type": "markdown",
      "source": [
        "# **Part 3 A**"
      ],
      "metadata": {
        "id": "ZtplSpq8PVv1"
      }
    },
    {
      "cell_type": "code",
      "source": [
        "#Dataset 1 Part 3\n",
        "\n",
        "#create empty dataframe\n",
        "col_vars<-train[FALSE,]\n",
        "#calculate standard deviation of every row\n",
        "train_var<-sapply(train, sd)\n",
        "#add sd to dataframe\n",
        "col_vars<-rbind(col_vars,train_var)\n",
        "#rename columns\n",
        "colnames(col_vars)<-colnames(train)\n",
        "#visualize pixels with highest sd\n",
        "draw_digit(col_vars,1)\n"
      ],
      "metadata": {
        "id": "aokbJE3aqF0R",
        "colab": {
          "base_uri": "https://localhost:8080/",
          "height": 437
        },
        "outputId": "7da903a1-62a6-4943-cf3c-e6558c94b9a4"
      },
      "execution_count": null,
      "outputs": [
        {
          "output_type": "display_data",
          "data": {
            "text/plain": [
              "plot without title"
            ],
            "image/png": "[encoded data removed]"
          },
          "metadata": {
            "image/png": {
              "width": 420,
              "height": 420
            }
          }
        }
      ]
    },
    {
      "cell_type": "code",
      "source": [
        "#sort the variances\n",
        "sorted_var<- train_var[order(temp, decreasing = TRUE)]\n",
        "#round the data\n",
        "sorted_var<-round(sorted_var,2)\n",
        "#view the top 50 pixels by highest variance\n",
        "head(data.frame(sorted_var), 10)"
      ],
      "metadata": {
        "colab": {
          "base_uri": "https://localhost:8080/",
          "height": 412
        },
        "id": "MDDSfo0KCmi1",
        "outputId": "1ce5f982-7062-4cab-958c-f8db6ba9a4cc"
      },
      "execution_count": null,
      "outputs": [
        {
          "output_type": "display_data",
          "data": {
            "text/html": [
              "<table class=\"dataframe\">\n",
              "<caption>A data.frame: 10 × 1</caption>\n",
              "<thead>\n",
              "\t<tr><th></th><th scope=col>sorted_var</th></tr>\n",
              "\t<tr><th></th><th scope=col>&lt;dbl&gt;</th></tr>\n",
              "</thead>\n",
              "<tbody>\n",
              "\t<tr><th scope=row>pixel406</th><td>113.85</td></tr>\n",
              "\t<tr><th scope=row>pixel378</th><td>113.71</td></tr>\n",
              "\t<tr><th scope=row>pixel627</th><td>113.00</td></tr>\n",
              "\t<tr><th scope=row>pixel461</th><td>112.92</td></tr>\n",
              "\t<tr><th scope=row>pixel434</th><td>112.75</td></tr>\n",
              "\t<tr><th scope=row>pixel433</th><td>112.75</td></tr>\n",
              "\t<tr><th scope=row>pixel462</th><td>112.69</td></tr>\n",
              "\t<tr><th scope=row>pixel437</th><td>112.58</td></tr>\n",
              "\t<tr><th scope=row>pixel628</th><td>112.52</td></tr>\n",
              "\t<tr><th scope=row>pixel409</th><td>112.44</td></tr>\n",
              "</tbody>\n",
              "</table>\n"
            ],
            "text/markdown": "\nA data.frame: 10 × 1\n\n| <!--/--> | sorted_var &lt;dbl&gt; |\n|---|---|\n| pixel406 | 113.85 |\n| pixel378 | 113.71 |\n| pixel627 | 113.00 |\n| pixel461 | 112.92 |\n| pixel434 | 112.75 |\n| pixel433 | 112.75 |\n| pixel462 | 112.69 |\n| pixel437 | 112.58 |\n| pixel628 | 112.52 |\n| pixel409 | 112.44 |\n\n",
            "text/latex": "A data.frame: 10 × 1\n\\begin{tabular}{r|l}\n  & sorted\\_var\\\\\n  & <dbl>\\\\\n\\hline\n\tpixel406 & 113.85\\\\\n\tpixel378 & 113.71\\\\\n\tpixel627 & 113.00\\\\\n\tpixel461 & 112.92\\\\\n\tpixel434 & 112.75\\\\\n\tpixel433 & 112.75\\\\\n\tpixel462 & 112.69\\\\\n\tpixel437 & 112.58\\\\\n\tpixel628 & 112.52\\\\\n\tpixel409 & 112.44\\\\\n\\end{tabular}\n",
            "text/plain": [
              "         sorted_var\n",
              "pixel406 113.85    \n",
              "pixel378 113.71    \n",
              "pixel627 113.00    \n",
              "pixel461 112.92    \n",
              "pixel434 112.75    \n",
              "pixel433 112.75    \n",
              "pixel462 112.69    \n",
              "pixel437 112.58    \n",
              "pixel628 112.52    \n",
              "pixel409 112.44    "
            ]
          },
          "metadata": {}
        }
      ]
    },
    {
      "cell_type": "code",
      "source": [
        "#create empty dataframe for the variances\n",
        "digit_variance<-train[FALSE,]\n",
        "#loop to get the averages for each digit 0-9\n",
        "for(x in 0:9){\n",
        "  #subset the data for the digit \n",
        "  digit_subset<- train[which(train[,1]==x),]\n",
        "  #average the columns\n",
        "  digit_subset<-sapply(digit_subset, sd)\n",
        "  #add it to the dataset of averages\n",
        "  digit_variance<-rbind(digit_variance,digit_subset)\n",
        "}\n",
        "#rename the columns to the digit they represent, otherwise the labels start at 1 instead of 0\n",
        "row.names(digit_variance)<-0:9"
      ],
      "metadata": {
        "id": "eeE0N1vwDFSe"
      },
      "execution_count": null,
      "outputs": []
    },
    {
      "cell_type": "code",
      "source": [
        "draw_digit(digit_variance,\"7\")"
      ],
      "metadata": {
        "colab": {
          "base_uri": "https://localhost:8080/",
          "height": 437
        },
        "id": "hmT-lzb-DMxR",
        "outputId": "12790a2e-f011-487f-d077-b49456539bf6"
      },
      "execution_count": null,
      "outputs": [
        {
          "output_type": "display_data",
          "data": {
            "text/plain": [
              "plot without title"
            ],
            "image/png": "[encoded data removed]"
          },
          "metadata": {
            "image/png": {
              "width": 420,
              "height": 420
            }
          }
        }
      ]
    },
    {
      "cell_type": "markdown",
      "source": [
        "# **Part 3 b.**\n"
      ],
      "metadata": {
        "id": "7VaGyMv8PrAV"
      }
    },
    {
      "cell_type": "markdown",
      "source": [
        "Part 3 c."
      ],
      "metadata": {
        "id": "ZjKGg7B7PtRS"
      }
    },
    {
      "cell_type": "markdown",
      "source": [
        "# **Part 3 d.**\n",
        "The columns which have a very low average are ones that are not commonly written in for any digit. This comprises"
      ],
      "metadata": {
        "id": "U9rb6S3mPv3r"
      }
    },
    {
      "cell_type": "code",
      "source": [
        "col_means<-colMeans(train)"
      ],
      "metadata": {
        "id": "CHkM54LfPu_L"
      },
      "execution_count": null,
      "outputs": []
    },
    {
      "cell_type": "markdown",
      "source": [
        "4) Write the digits (0-9) in these squares and \"digitize\"\n",
        "   them, essentially add lines corresponding to your own handwriting to this set\n",
        "   You should present a program that prints out digits in your handwriting."
      ],
      "metadata": {
        "id": "uydylKZic2rJ"
      }
    },
    {
      "cell_type": "code",
      "source": [
        "#install relevant packages (if not done above) and declare functions\n",
        "\n",
        "#install.packages('ggplot2')\n",
        "#install.packages('reshape2')\n",
        "#install.packages('png')\n",
        "## average over a small square (fac x fac) \n",
        "ave_by_fac <- function(i1,fac,ii,jj){\n",
        "  ave=0;\n",
        "  cnt=0;\n",
        "  for(i in c(1:fac)){\n",
        "    for(j in c(1:fac)){\n",
        "      cnt = cnt +1;\n",
        "      x = (ii-1)*fac+i;\n",
        "      y = (jj-1)*fac+j;\n",
        "      ##\t \t cat(\"i,j,ii,jj,x,y=\",i,j,ii,jj,x,y,\"\\n\");\n",
        "      ave = ave+\t i1[x,y];\n",
        "    }}\n",
        "  ave = ave/cnt;\n",
        "  return(ave);\n",
        "} \n",
        "\n",
        "## function I wrote to scale down a square image to a 28 x 28 image\n",
        "## uses the averaging function above\n",
        "scale_down_image <- function(img_in) {\n",
        "  ## fac is the factor by which you have to scale the image to become a\n",
        "  ## 28 x 28 square\n",
        "  fac <- as.integer(dim(img_in)[1]/28); \n",
        "  im_out <- matrix(0,nrow=28,ncol=28);\n",
        "  for(i in c(1:28)){\n",
        "    for(j in c(1:28)){\n",
        "      im_out[i,j] = ave_by_fac(img_in,fac,i,j);\n",
        "    }}\n",
        "  return(im_out);\n",
        "} "
      ],
      "metadata": {
        "id": "LFgM17mbkWs5"
      },
      "execution_count": null,
      "outputs": []
    },
    {
      "cell_type": "code",
      "source": [],
      "metadata": {
        "id": "w66WVTFBmVXM"
      },
      "execution_count": null,
      "outputs": []
    },
    {
      "cell_type": "code",
      "source": [
        "#Get data\n",
        "library(png)\n",
        "library(vctrs)\n",
        "library(ggplot2)\n",
        "library(reshape2)\n",
        "\n",
        "\n",
        "img<-readPNG(\"two_phone.png\")\n",
        "\n",
        "\n",
        "#function to take png image and convert it to same format as train.csv data\n",
        "print_HW_digit<-function(img, label){\n",
        "    \n",
        "  #apply image scaling function\n",
        "  img_scaled<-scale_down_image(img[,,2])\n",
        "  \n",
        "  #rescale values in the data to match given data, 0=white, 255=black\n",
        "  img_scaled<-abs(img_scaled-1)\n",
        "  img_scaled<-img_scaled-min(img_scaled)\n",
        "  img_scaled<-img_scaled*255\n",
        "  img_scaled<-round(img_scaled,0)\n",
        "  #transpose data into correct orientation\n",
        "  img_scaled<-t(img_scaled)\n",
        "  \n",
        "  #create the label as a dataframe\n",
        "  label<-data.frame(label)\n",
        "  \n",
        "  #melt the image data so it is in long format\n",
        "  img_m<-melt(img_scaled)\n",
        "  #select only the values, excluding the x y coordinates\n",
        "  img_m<-img_m$value\n",
        "  #convert the linearized data into a data frame and transpose it so it is a row not a column\n",
        "  img_lin<-data.frame(img_m)\n",
        "  img_lin<-t(img_lin)\n",
        "  #put the label in the first column\n",
        "  img_lab<-cbind(label, img_lin)\n",
        "  #label the columns and the row\n",
        "  colnames(img_lab)<-colnames(train)\n",
        "  rownames(img_lab)<-label\n",
        "  #return the transformed data\n",
        "  return(img_lab)\n",
        "}\n"
      ],
      "metadata": {
        "id": "3o-5xRTOc2Sj"
      },
      "execution_count": null,
      "outputs": []
    },
    {
      "cell_type": "code",
      "source": [
        "#call the function and store the results\n",
        "HW2<-print_HW_digit(img,\"HW2\")\n",
        "\n",
        "#create a dataframe to hold each handwritten digit\n",
        "HW_digits<-train[FALSE,]\n",
        "#add the digit to the dataframe\n",
        "HW_digits<-rbind(HW_digits,HW2[])\n",
        "\n",
        "#call the function on the handwritten digit of your choice\n",
        "draw_digit(HW_digits,1)"
      ],
      "metadata": {
        "colab": {
          "base_uri": "https://localhost:8080/",
          "height": 437
        },
        "id": "mLXGwND7r7R0",
        "outputId": "1d3dd7af-84e3-4df6-9d91-ae77f17ad781"
      },
      "execution_count": null,
      "outputs": [
        {
          "output_type": "display_data",
          "data": {
            "text/plain": [
              "plot without title"
            ],
            "image/png": "[encoded data removed]"
          },
          "metadata": {
            "image/png": {
              "width": 420,
              "height": 420
            }
          }
        }
      ]
    },
    {
      "cell_type": "markdown",
      "source": [
        "# **Dataset 2**"
      ],
      "metadata": {
        "id": "ZaWwB1QrpoiF"
      }
    },
    {
      "cell_type": "code",
      "source": [
        "#Install/Load libraries needed\n",
        "install.packages(\"reshape2\")\n",
        "library(\"reshape2\")"
      ],
      "metadata": {
        "id": "XXgxXxE01r--",
        "colab": {
          "base_uri": "https://localhost:8080/"
        },
        "outputId": "223a35b9-4f6b-4abd-974d-bcd2e0a7b1aa"
      },
      "execution_count": null,
      "outputs": [
        {
          "output_type": "stream",
          "name": "stderr",
          "text": [
            "Installing package into ‘/usr/local/lib/R/site-library’\n",
            "(as ‘lib’ is unspecified)\n",
            "\n"
          ]
        }
      ]
    },
    {
      "cell_type": "markdown",
      "source": [
        "Question 1"
      ],
      "metadata": {
        "id": "ZwQVkpsgXIIY"
      }
    },
    {
      "cell_type": "code",
      "source": [
        "library(\"dplyr\")\n",
        "library(\"Hmisc\")\n",
        "library(\"reshape2\")\n",
        "\n",
        "#Read both files, set header to true\n",
        "mcoldata<-read.csv(\"Mnemiopsis_col_data.csv\",header=TRUE)\n",
        "mcountdata<-read.csv(\"Mnemiopsis_count_data.csv\",header=TRUE)"
      ],
      "metadata": {
        "id": "IkRAmmhsaKlv",
        "colab": {
          "base_uri": "https://localhost:8080/",
          "height": 461
        },
        "outputId": "26ac1714-5444-4c38-9de2-9e910dff1475"
      },
      "execution_count": 29,
      "outputs": [
        {
          "output_type": "stream",
          "name": "stderr",
          "text": [
            "\n",
            "Attaching package: ‘dplyr’\n",
            "\n",
            "\n",
            "The following object is masked from ‘package:vctrs’:\n",
            "\n",
            "    data_frame\n",
            "\n",
            "\n",
            "The following objects are masked from ‘package:stats’:\n",
            "\n",
            "    filter, lag\n",
            "\n",
            "\n",
            "The following objects are masked from ‘package:base’:\n",
            "\n",
            "    intersect, setdiff, setequal, union\n",
            "\n",
            "\n"
          ]
        },
        {
          "output_type": "error",
          "ename": "ERROR",
          "evalue": "ignored",
          "traceback": [
            "Error in library(\"Hmisc\"): there is no package called ‘Hmisc’\nTraceback:\n",
            "1. library(\"Hmisc\")"
          ]
        }
      ]
    },
    {
      "cell_type": "code",
      "source": [
        "#make new column with mean expression for all experiments with a for loop\n",
        "for(i in 1:nrow(mcountdata))\n",
        "{\n",
        "  mcountdata$expmean <- ((mcountdata$aboral1)+(mcountdata$aboral2)+(mcountdata$aboral3)+(mcountdata$aboral4)+(mcountdata$oral1)+(mcountdata$oral2)+(mcountdata$oral3)+(mcountdata$oral4))/(8)\n",
        "}"
      ],
      "metadata": {
        "id": "ViHMSjsnaWeo",
        "colab": {
          "base_uri": "https://localhost:8080/",
          "height": 131
        },
        "outputId": "615d2a33-5303-4db4-8f3e-d012e4ba82ac"
      },
      "execution_count": 28,
      "outputs": [
        {
          "output_type": "error",
          "ename": "ERROR",
          "evalue": "ignored",
          "traceback": [
            "Error in nrow(mcountdata): object 'mcountdata' not found\nTraceback:\n",
            "1. nrow(mcountdata)"
          ]
        }
      ]
    },
    {
      "cell_type": "code",
      "source": [
        "#Sort the dataframe by expmean and check the top 5\n",
        "sortedexpmean<-mcountdata[order(-mcountdata$expmean),]\n",
        "head(sortedexpmean)"
      ],
      "metadata": {
        "id": "pS6WJSRdaZAx",
        "colab": {
          "base_uri": "https://localhost:8080/",
          "height": 286
        },
        "outputId": "c0bc5a24-bb85-4da2-8485-1abadd0d6330"
      },
      "execution_count": null,
      "outputs": [
        {
          "output_type": "display_data",
          "data": {
            "text/html": [
              "<table class=\"dataframe\">\n",
              "<caption>A data.frame: 6 × 10</caption>\n",
              "<thead>\n",
              "\t<tr><th></th><th scope=col>Gene</th><th scope=col>aboral1</th><th scope=col>aboral2</th><th scope=col>aboral3</th><th scope=col>aboral4</th><th scope=col>oral1</th><th scope=col>oral2</th><th scope=col>oral3</th><th scope=col>oral4</th><th scope=col>expmean</th></tr>\n",
              "\t<tr><th></th><th scope=col>&lt;chr&gt;</th><th scope=col>&lt;int&gt;</th><th scope=col>&lt;int&gt;</th><th scope=col>&lt;int&gt;</th><th scope=col>&lt;int&gt;</th><th scope=col>&lt;int&gt;</th><th scope=col>&lt;int&gt;</th><th scope=col>&lt;int&gt;</th><th scope=col>&lt;int&gt;</th><th scope=col>&lt;dbl&gt;</th></tr>\n",
              "</thead>\n",
              "<tbody>\n",
              "\t<tr><th scope=row>12714</th><td>ML20395a </td><td>122707</td><td>131017</td><td>136282</td><td>111388</td><td>163380</td><td>101792</td><td>101421</td><td>109944</td><td>122241.38</td></tr>\n",
              "\t<tr><th scope=row>14235</th><td>ML26358a </td><td> 61229</td><td> 93272</td><td> 78693</td><td> 78310</td><td> 62893</td><td> 46232</td><td> 49534</td><td> 47733</td><td> 64737.00</td></tr>\n",
              "\t<tr><th scope=row>16420</th><td>ML46651a </td><td>125638</td><td>105808</td><td> 65907</td><td> 93351</td><td> 16236</td><td> 10449</td><td> 22838</td><td> 58247</td><td> 62309.25</td></tr>\n",
              "\t<tr><th scope=row>2612</th><td>ML020045a</td><td> 80445</td><td> 48643</td><td> 60380</td><td> 45170</td><td> 65580</td><td> 54406</td><td> 35861</td><td> 48147</td><td> 54829.00</td></tr>\n",
              "\t<tr><th scope=row>30</th><td>ML00017a </td><td> 52713</td><td> 57824</td><td> 59132</td><td> 60254</td><td> 59242</td><td> 47001</td><td> 48346</td><td> 47841</td><td> 54044.12</td></tr>\n",
              "\t<tr><th scope=row>4249</th><td>ML04011a </td><td> 49536</td><td> 55951</td><td> 56601</td><td> 47869</td><td> 64225</td><td> 50041</td><td> 44420</td><td> 41929</td><td> 51321.50</td></tr>\n",
              "</tbody>\n",
              "</table>\n"
            ],
            "text/markdown": "\nA data.frame: 6 × 10\n\n| <!--/--> | Gene &lt;chr&gt; | aboral1 &lt;int&gt; | aboral2 &lt;int&gt; | aboral3 &lt;int&gt; | aboral4 &lt;int&gt; | oral1 &lt;int&gt; | oral2 &lt;int&gt; | oral3 &lt;int&gt; | oral4 &lt;int&gt; | expmean &lt;dbl&gt; |\n|---|---|---|---|---|---|---|---|---|---|---|\n| 12714 | ML20395a  | 122707 | 131017 | 136282 | 111388 | 163380 | 101792 | 101421 | 109944 | 122241.38 |\n| 14235 | ML26358a  |  61229 |  93272 |  78693 |  78310 |  62893 |  46232 |  49534 |  47733 |  64737.00 |\n| 16420 | ML46651a  | 125638 | 105808 |  65907 |  93351 |  16236 |  10449 |  22838 |  58247 |  62309.25 |\n| 2612 | ML020045a |  80445 |  48643 |  60380 |  45170 |  65580 |  54406 |  35861 |  48147 |  54829.00 |\n| 30 | ML00017a  |  52713 |  57824 |  59132 |  60254 |  59242 |  47001 |  48346 |  47841 |  54044.12 |\n| 4249 | ML04011a  |  49536 |  55951 |  56601 |  47869 |  64225 |  50041 |  44420 |  41929 |  51321.50 |\n\n",
            "text/latex": "A data.frame: 6 × 10\n\\begin{tabular}{r|llllllllll}\n  & Gene & aboral1 & aboral2 & aboral3 & aboral4 & oral1 & oral2 & oral3 & oral4 & expmean\\\\\n  & <chr> & <int> & <int> & <int> & <int> & <int> & <int> & <int> & <int> & <dbl>\\\\\n\\hline\n\t12714 & ML20395a  & 122707 & 131017 & 136282 & 111388 & 163380 & 101792 & 101421 & 109944 & 122241.38\\\\\n\t14235 & ML26358a  &  61229 &  93272 &  78693 &  78310 &  62893 &  46232 &  49534 &  47733 &  64737.00\\\\\n\t16420 & ML46651a  & 125638 & 105808 &  65907 &  93351 &  16236 &  10449 &  22838 &  58247 &  62309.25\\\\\n\t2612 & ML020045a &  80445 &  48643 &  60380 &  45170 &  65580 &  54406 &  35861 &  48147 &  54829.00\\\\\n\t30 & ML00017a  &  52713 &  57824 &  59132 &  60254 &  59242 &  47001 &  48346 &  47841 &  54044.12\\\\\n\t4249 & ML04011a  &  49536 &  55951 &  56601 &  47869 &  64225 &  50041 &  44420 &  41929 &  51321.50\\\\\n\\end{tabular}\n",
            "text/plain": [
              "      Gene      aboral1 aboral2 aboral3 aboral4 oral1  oral2  oral3  oral4 \n",
              "12714 ML20395a  122707  131017  136282  111388  163380 101792 101421 109944\n",
              "14235 ML26358a   61229   93272   78693   78310   62893  46232  49534  47733\n",
              "16420 ML46651a  125638  105808   65907   93351   16236  10449  22838  58247\n",
              "2612  ML020045a  80445   48643   60380   45170   65580  54406  35861  48147\n",
              "30    ML00017a   52713   57824   59132   60254   59242  47001  48346  47841\n",
              "4249  ML04011a   49536   55951   56601   47869   64225  50041  44420  41929\n",
              "      expmean  \n",
              "12714 122241.38\n",
              "14235  64737.00\n",
              "16420  62309.25\n",
              "2612   54829.00\n",
              "30     54044.12\n",
              "4249   51321.50"
            ]
          },
          "metadata": {}
        }
      ]
    },
    {
      "cell_type": "markdown",
      "source": [
        "Q1. What are the top 5 genes with the highest average expression (across experiments) in the set? What is their function?\n",
        "\n",
        "- The top 5 genes with the highest average expression across experiments are: ML20395a, ML26358a, ML46651a, ML020045a, and ML00017a.\n",
        "\n",
        "- Their functions are:\n",
        "- ML20395a: Elongation factor 1-alpha (translation)\n",
        "- ML26358a: Actin (major protein constituent of cytoskeleton-->microfilaments, and for thin filaments in muscle fibrils)\n",
        "- ML46651a: Membrane attack complex? (according to Argot2: no other results)\n",
        "- ML020045a: Tubulin beta chain (second protein component of microtubule)\n",
        "- ML00017a: Elongation factor 2 (translation)\n"
      ],
      "metadata": {
        "id": "5nBuozazamOO"
      }
    },
    {
      "cell_type": "markdown",
      "source": [
        "Question 2"
      ],
      "metadata": {
        "id": "70J553a1XEZO"
      }
    },
    {
      "cell_type": "code",
      "source": [
        "#Create new variables that hold descending values for each column\n",
        "sortedaboral1<-mcountdata[order(-mcountdata$aboral1),]\n",
        "sortedaboral1\n",
        "sortedaboral2<-mcountdata[order(-mcountdata$aboral2),]\n",
        "sortedaboral2\n",
        "sortedaboral3<-mcountdata[order(-mcountdata$aboral3),]\n",
        "sortedaboral3\n",
        "sortedaboral4<-mcountdata[order(-mcountdata$aboral4),]\n",
        "sortedaboral4\n",
        "sortedoral1<-mcountdata[order(-mcountdata$oral1),]\n",
        "sortedoral1\n",
        "sortedoral2<-mcountdata[order(-mcountdata$oral2),]\n",
        "sortedoral2\n",
        "sortedoral3<-mcountdata[order(-mcountdata$oral3),]\n",
        "sortedoral3\n",
        "sortedoral4<-mcountdata[order(-mcountdata$oral4),]\n",
        "sortedoral4"
      ],
      "metadata": {
        "id": "gu4jdNg2adBt"
      },
      "execution_count": null,
      "outputs": []
    },
    {
      "cell_type": "markdown",
      "source": [
        "Q2. Are the top 5 genes different if done on a per-column basis?\n",
        "\n",
        "OG TOP 5 GENES ARE: ML20395a, ML26358a, ML46651a, ML020045a, and ML00017a\n",
        "\n",
        "\n",
        "(S) = same; (D) = different\n",
        "- When sorted on a per-column basis, the top 5 genes differ as follows:\n",
        "- aboral1: ML46651a(S), ML20395a(S), ML020045a(S), ML174731a(D),ML26358a(S)\n",
        "- aboral2: ML20395a(S),ML46651a(S),ML26358a(S),ML01482a(D),ML034334a(D)\n",
        "- aboral3: ML20395a(S),ML01482a(D),ML26358a(S),ML46651a(S),ML034334a(D)\n",
        "- aboral4: ML01482a(D),ML20395a(S),ML034334a(D),ML46651a(S),ML034336a(D)\n",
        "- oral1: ML20395a(S),ML020045a(S),ML04011a(D),ML26358a(S),ML00017a(S)\n",
        "- oral2: ML20395a(S),ML020045a(S),ML04011a(D),ML00017a(S),ML26358a(S)\n",
        "- oral3: ML20395a(S),ML004510a(D),ML26358a(S),ML00017a(S),ML04011a(D)\n",
        "- oral4: ML20395a(S),ML004510a(D),ML46651a(S),ML020045a(S),ML00017a(S)\n",
        "\n",
        "-- Yes, the top 5 genes vary depending if it is done on a per-column basis. Many of the original top 5 genes reappear in these newly generated \n",
        "\"top 5\" gene sets, but each column has 1-3 different genes in its \"top 5\" listing. "
      ],
      "metadata": {
        "id": "yLJG7_zNapbv"
      }
    },
    {
      "cell_type": "markdown",
      "source": [
        "Question 3"
      ],
      "metadata": {
        "id": "3M0ncEclXU82"
      }
    },
    {
      "cell_type": "code",
      "source": [
        "#Calculate mean and standard deviation for each column\n",
        "#First for aboral1 column\n",
        "aboral1vec<-mcountdata$aboral1\n",
        "aboral1mean<-mean(aboral1vec)\n",
        "aboral1sd<-sd(aboral1vec)\n",
        "\n",
        "#Now repeat for the rest\n",
        "aboral2vec<-mcountdata$aboral2\n",
        "aboral2mean<-mean(aboral2vec)\n",
        "aboral2sd<-sd(aboral2vec)\n",
        "#aboral3\n",
        "aboral3vec<-mcountdata$aboral3\n",
        "aboral3mean<-mean(aboral3vec)\n",
        "aboral3sd<-sd(aboral3vec)\n",
        "#aboral4\n",
        "aboral4vec<-mcountdata$aboral4\n",
        "aboral4mean<-mean(aboral4vec)\n",
        "aboral4sd<-sd(aboral4vec)\n",
        "#oral1\n",
        "oral1vec<-mcountdata$oral1\n",
        "oral1mean<-mean(oral1vec)\n",
        "oral1sd<-sd(oral1vec)\n",
        "#oral2\n",
        "oral2vec<-mcountdata$oral2\n",
        "oral2mean<-mean(oral2vec)\n",
        "oral2sd<-sd(oral2vec)\n",
        "#oral3\n",
        "oral3vec<-mcountdata$oral3\n",
        "oral3mean<-mean(oral3vec)\n",
        "oral3sd<-sd(oral3vec)\n",
        "#oral4\n",
        "oral4vec<-mcountdata$oral4\n",
        "oral4mean<-mean(oral4vec)\n",
        "oral4sd<-sd(oral4vec)\n",
        "\n",
        "\n",
        "#Display mean for each column\n",
        "aboral1mean\n",
        "aboral2mean\n",
        "aboral3mean\n",
        "aboral4mean\n",
        "oral1mean\n",
        "oral2mean\n",
        "oral3mean\n",
        "oral4mean\n",
        "aboral1sd\n",
        "aboral2sd\n",
        "aboral3sd\n",
        "aboral4sd\n",
        "oral1sd\n",
        "oral2sd\n",
        "oral3sd\n",
        "oral4sd"
      ],
      "metadata": {
        "id": "yHe65GOG8iC4"
      },
      "execution_count": null,
      "outputs": []
    },
    {
      "cell_type": "code",
      "source": [
        "\n",
        "#now scale each column such that the mean is equal to the first column \n",
        "\n",
        "#Make a copy of this data frame to put scaled values in \n",
        "sc.mcountdata<-mcountdata\n",
        "\n",
        "#Scale all values within each column by the conversion factor determined by the column means calculated earlier\n",
        "sc.mcountdata$aboral2<-(sc.mcountdata$aboral1)*(524.1/580.5)\n",
        "sc.mcountdata$aboral3<-(sc.mcountdata$aboral1)*(524.1/581.3)\n",
        "sc.mcountdata$aboral4<-(sc.mcountdata$aboral1)*(524.1/560.1)\n",
        "sc.mcountdata$oral1<-(sc.mcountdata$aboral1)*(524.1/551.6)\n",
        "sc.mcountdata$oral2<-(sc.mcountdata$aboral1)*(524.1/429.0)\n",
        "sc.mcountdata$oral3<-(sc.mcountdata$aboral1)*(524.1/419.6)\n",
        "sc.mcountdata$oral4<-(sc.mcountdata$aboral1)*(524.1/457.4)\n",
        "  \n",
        "head(sc.mcountdata)\n",
        "\n",
        "\n",
        "#IGNORE expmean column in sc.mcountdata data frame; just a holdover from copying the orignal data frame to be scaled"
      ],
      "metadata": {
        "id": "aujaXHhvki4W",
        "colab": {
          "base_uri": "https://localhost:8080/",
          "height": 425
        },
        "outputId": "4b1a4aad-ffa2-412f-d2f1-f5cdfab3fd91"
      },
      "execution_count": null,
      "outputs": [
        {
          "output_type": "display_data",
          "data": {
            "text/html": [
              "<table class=\"dataframe\">\n",
              "<caption>A data.frame: 6 × 10</caption>\n",
              "<thead>\n",
              "\t<tr><th></th><th scope=col>Gene</th><th scope=col>aboral1</th><th scope=col>aboral2</th><th scope=col>aboral3</th><th scope=col>aboral4</th><th scope=col>oral1</th><th scope=col>oral2</th><th scope=col>oral3</th><th scope=col>oral4</th><th scope=col>expmean</th></tr>\n",
              "\t<tr><th></th><th scope=col>&lt;chr&gt;</th><th scope=col>&lt;int&gt;</th><th scope=col>&lt;dbl&gt;</th><th scope=col>&lt;dbl&gt;</th><th scope=col>&lt;dbl&gt;</th><th scope=col>&lt;dbl&gt;</th><th scope=col>&lt;dbl&gt;</th><th scope=col>&lt;dbl&gt;</th><th scope=col>&lt;dbl&gt;</th><th scope=col>&lt;dbl&gt;</th></tr>\n",
              "</thead>\n",
              "<tbody>\n",
              "\t<tr><th scope=row>1</th><td>ML000110a</td><td> 69</td><td> 62.2961240</td><td> 62.2103905</td><td> 64.5650777</td><td> 65.560007</td><td> 84.295804</td><td> 86.184223</td><td> 79.061871</td><td>121.750</td></tr>\n",
              "\t<tr><th scope=row>2</th><td>ML000111a</td><td>  0</td><td>  0.0000000</td><td>  0.0000000</td><td>  0.0000000</td><td>  0.000000</td><td>  0.000000</td><td>  0.000000</td><td>  0.000000</td><td>  0.125</td></tr>\n",
              "\t<tr><th scope=row>3</th><td>ML000112a</td><td>  1</td><td>  0.9028424</td><td>  0.9015999</td><td>  0.9357258</td><td>  0.950145</td><td>  1.221678</td><td>  1.249047</td><td>  1.145824</td><td>  5.500</td></tr>\n",
              "\t<tr><th scope=row>4</th><td>ML000113a</td><td>383</td><td>345.7886305</td><td>345.3127473</td><td>358.3829673</td><td>363.905547</td><td>467.902797</td><td>478.384890</td><td>438.850678</td><td>360.125</td></tr>\n",
              "\t<tr><th scope=row>5</th><td>ML000114a</td><td>188</td><td>169.7343669</td><td>169.5007741</td><td>175.9164435</td><td>178.627266</td><td>229.675524</td><td>234.820782</td><td>215.414954</td><td>210.375</td></tr>\n",
              "\t<tr><th scope=row>6</th><td>ML000115a</td><td>493</td><td>445.1012920</td><td>444.4887322</td><td>461.3128013</td><td>468.421501</td><td>602.287413</td><td>615.780029</td><td>564.891342</td><td>459.500</td></tr>\n",
              "</tbody>\n",
              "</table>\n"
            ],
            "text/markdown": "\nA data.frame: 6 × 10\n\n| <!--/--> | Gene &lt;chr&gt; | aboral1 &lt;int&gt; | aboral2 &lt;dbl&gt; | aboral3 &lt;dbl&gt; | aboral4 &lt;dbl&gt; | oral1 &lt;dbl&gt; | oral2 &lt;dbl&gt; | oral3 &lt;dbl&gt; | oral4 &lt;dbl&gt; | expmean &lt;dbl&gt; |\n|---|---|---|---|---|---|---|---|---|---|---|\n| 1 | ML000110a |  69 |  62.2961240 |  62.2103905 |  64.5650777 |  65.560007 |  84.295804 |  86.184223 |  79.061871 | 121.750 |\n| 2 | ML000111a |   0 |   0.0000000 |   0.0000000 |   0.0000000 |   0.000000 |   0.000000 |   0.000000 |   0.000000 |   0.125 |\n| 3 | ML000112a |   1 |   0.9028424 |   0.9015999 |   0.9357258 |   0.950145 |   1.221678 |   1.249047 |   1.145824 |   5.500 |\n| 4 | ML000113a | 383 | 345.7886305 | 345.3127473 | 358.3829673 | 363.905547 | 467.902797 | 478.384890 | 438.850678 | 360.125 |\n| 5 | ML000114a | 188 | 169.7343669 | 169.5007741 | 175.9164435 | 178.627266 | 229.675524 | 234.820782 | 215.414954 | 210.375 |\n| 6 | ML000115a | 493 | 445.1012920 | 444.4887322 | 461.3128013 | 468.421501 | 602.287413 | 615.780029 | 564.891342 | 459.500 |\n\n",
            "text/latex": "A data.frame: 6 × 10\n\\begin{tabular}{r|llllllllll}\n  & Gene & aboral1 & aboral2 & aboral3 & aboral4 & oral1 & oral2 & oral3 & oral4 & expmean\\\\\n  & <chr> & <int> & <dbl> & <dbl> & <dbl> & <dbl> & <dbl> & <dbl> & <dbl> & <dbl>\\\\\n\\hline\n\t1 & ML000110a &  69 &  62.2961240 &  62.2103905 &  64.5650777 &  65.560007 &  84.295804 &  86.184223 &  79.061871 & 121.750\\\\\n\t2 & ML000111a &   0 &   0.0000000 &   0.0000000 &   0.0000000 &   0.000000 &   0.000000 &   0.000000 &   0.000000 &   0.125\\\\\n\t3 & ML000112a &   1 &   0.9028424 &   0.9015999 &   0.9357258 &   0.950145 &   1.221678 &   1.249047 &   1.145824 &   5.500\\\\\n\t4 & ML000113a & 383 & 345.7886305 & 345.3127473 & 358.3829673 & 363.905547 & 467.902797 & 478.384890 & 438.850678 & 360.125\\\\\n\t5 & ML000114a & 188 & 169.7343669 & 169.5007741 & 175.9164435 & 178.627266 & 229.675524 & 234.820782 & 215.414954 & 210.375\\\\\n\t6 & ML000115a & 493 & 445.1012920 & 444.4887322 & 461.3128013 & 468.421501 & 602.287413 & 615.780029 & 564.891342 & 459.500\\\\\n\\end{tabular}\n",
            "text/plain": [
              "  Gene      aboral1 aboral2     aboral3     aboral4     oral1      oral2     \n",
              "1 ML000110a  69      62.2961240  62.2103905  64.5650777  65.560007  84.295804\n",
              "2 ML000111a   0       0.0000000   0.0000000   0.0000000   0.000000   0.000000\n",
              "3 ML000112a   1       0.9028424   0.9015999   0.9357258   0.950145   1.221678\n",
              "4 ML000113a 383     345.7886305 345.3127473 358.3829673 363.905547 467.902797\n",
              "5 ML000114a 188     169.7343669 169.5007741 175.9164435 178.627266 229.675524\n",
              "6 ML000115a 493     445.1012920 444.4887322 461.3128013 468.421501 602.287413\n",
              "  oral3      oral4      expmean\n",
              "1  86.184223  79.061871 121.750\n",
              "2   0.000000   0.000000   0.125\n",
              "3   1.249047   1.145824   5.500\n",
              "4 478.384890 438.850678 360.125\n",
              "5 234.820782 215.414954 210.375\n",
              "6 615.780029 564.891342 459.500"
            ]
          },
          "metadata": {}
        },
        {
          "output_type": "display_data",
          "data": {
            "text/html": [
              "524.097897026831"
            ],
            "text/markdown": "524.097897026831",
            "text/latex": "524.097897026831",
            "text/plain": [
              "[1] 524.0979"
            ]
          },
          "metadata": {}
        },
        {
          "output_type": "display_data",
          "data": {
            "text/html": [
              "580.521936185642"
            ],
            "text/markdown": "580.521936185642",
            "text/latex": "580.521936185642",
            "text/plain": [
              "[1] 580.5219"
            ]
          },
          "metadata": {}
        },
        {
          "output_type": "display_data",
          "data": {
            "text/html": [
              "581.273567802756"
            ],
            "text/markdown": "581.273567802756",
            "text/latex": "581.273567802756",
            "text/plain": [
              "[1] 581.2736"
            ]
          },
          "metadata": {}
        },
        {
          "output_type": "display_data",
          "data": {
            "text/html": [
              "560.089678510998"
            ],
            "text/markdown": "560.089678510998",
            "text/latex": "560.089678510998",
            "text/plain": [
              "[1] 560.0897"
            ]
          },
          "metadata": {}
        },
        {
          "output_type": "display_data",
          "data": {
            "text/html": [
              "551.640258641528"
            ],
            "text/markdown": "551.640258641528",
            "text/latex": "551.640258641528",
            "text/plain": [
              "[1] 551.6403"
            ]
          },
          "metadata": {}
        },
        {
          "output_type": "display_data",
          "data": {
            "text/html": [
              "428.993352671018"
            ],
            "text/markdown": "428.993352671018",
            "text/latex": "428.993352671018",
            "text/plain": [
              "[1] 428.9934"
            ]
          },
          "metadata": {}
        },
        {
          "output_type": "display_data",
          "data": {
            "text/html": [
              "419.606719845299"
            ],
            "text/markdown": "419.606719845299",
            "text/latex": "419.606719845299",
            "text/plain": [
              "[1] 419.6067"
            ]
          },
          "metadata": {}
        },
        {
          "output_type": "display_data",
          "data": {
            "text/html": [
              "457.431713802272"
            ],
            "text/markdown": "457.431713802272",
            "text/latex": "457.431713802272",
            "text/plain": [
              "[1] 457.4317"
            ]
          },
          "metadata": {}
        }
      ]
    },
    {
      "cell_type": "code",
      "source": [
        "#Create a correlation matrix for the new data frame\n",
        "#corr.sc.mcountdata<-cor(sc.mcountdata[2:9],sc.mcountdata[2:9])\n",
        "#corr.sc.mcountdata\n",
        "#right now just using the unscaled data\n",
        "corr.mcountdata<-cor(mcountdata[2:9],mcountdata[2:9])\n",
        "corr.mcountdata\n",
        "#unscaled corr \n",
        "melt.corr.mcountdata<-melt(corr.mcountdata)\n",
        "melt.corr.mcountdata\n",
        "sorted.meltcorr<-melt.corr.mcountdata[order(-melt.corr.mcountdata$value),]\n",
        "sorted.meltcorr\n",
        "#remove every other line in the output of sorted.meltcorr to remove the duplicated comparison values. \n",
        "#We only really need half of the information because its redundant symmetrical around the self:self correlations"
      ],
      "metadata": {
        "id": "wL4awF-n0mk1",
        "colab": {
          "base_uri": "https://localhost:8080/",
          "height": 148
        },
        "outputId": "a1968a01-ffda-4563-eca0-5edc2ff47a5a"
      },
      "execution_count": 27,
      "outputs": [
        {
          "output_type": "error",
          "ename": "ERROR",
          "evalue": "ignored",
          "traceback": [
            "Error in is.data.frame(y): object 'mcountdata' not found\nTraceback:\n",
            "1. cor(mcountdata[2:9], mcountdata[2:9])",
            "2. is.data.frame(y)"
          ]
        }
      ]
    },
    {
      "cell_type": "code",
      "source": [
        "#remove every other line in the output of sorted.meltcorr to remove the duplicated comparison values. also remove the first 8 since they just correlate aboral/oral to itself\n",
        "#We only really need half of the information because its redundant symmetrical around the self:self correlations\n",
        "sorted.meltcorr2<-sorted.meltcorr[-c(1:8),]\n",
        "sorted.meltcorr2 #all 1.00 values remove\n",
        "\n",
        "#now remove duplicates be deleting every other entry\n",
        "row_odd<-seq_len(nrow(sorted.meltcorr2))%%2\n",
        "sorted.meltcorr2.ev<-sorted.meltcorr2[row_odd == 0,]\n",
        "sorted.meltcorr2.ev\n"
      ],
      "metadata": {
        "id": "lFef5KRkX3e5"
      },
      "execution_count": null,
      "outputs": []
    },
    {
      "cell_type": "markdown",
      "source": [],
      "metadata": {
        "id": "nXH6-MN1X6Yl"
      }
    },
    {
      "cell_type": "markdown",
      "source": [],
      "metadata": {
        "id": "vfPR7hTyX3QW"
      }
    },
    {
      "cell_type": "code",
      "source": [
        "install.packages('corrplot')\n",
        "library(corrplot)\n",
        "library(tidyverse)\n",
        "install.packages('corrplot')\n",
        "library(corrplot)\n",
        "library(reshape)"
      ],
      "metadata": {
        "id": "RwzLJ8sCa1qP",
        "colab": {
          "base_uri": "https://localhost:8080/",
          "height": 508
        },
        "outputId": "514a7cca-d68d-4c58-e194-1947e5c2092e"
      },
      "execution_count": null,
      "outputs": [
        {
          "output_type": "stream",
          "name": "stderr",
          "text": [
            "Installing package into ‘/usr/local/lib/R/site-library’\n",
            "(as ‘lib’ is unspecified)\n",
            "\n",
            "corrplot 0.92 loaded\n",
            "\n",
            "Warning message in system(\"timedatectl\", intern = TRUE):\n",
            "“running command 'timedatectl' had status 1”\n",
            "── \u001b[1mAttaching packages\u001b[22m ─────────────────────────────────────── tidyverse 1.3.1 ──\n",
            "\n",
            "\u001b[32m✔\u001b[39m \u001b[34mtibble \u001b[39m 3.1.7     \u001b[32m✔\u001b[39m \u001b[34mpurrr  \u001b[39m 0.3.5\n",
            "\u001b[32m✔\u001b[39m \u001b[34mtidyr  \u001b[39m 1.2.1     \u001b[32m✔\u001b[39m \u001b[34mstringr\u001b[39m 1.4.1\n",
            "\u001b[32m✔\u001b[39m \u001b[34mreadr  \u001b[39m 2.1.3     \u001b[32m✔\u001b[39m \u001b[34mforcats\u001b[39m 0.5.2\n",
            "\n",
            "── \u001b[1mConflicts\u001b[22m ────────────────────────────────────────── tidyverse_conflicts() ──\n",
            "\u001b[31m✖\u001b[39m \u001b[34mtibble\u001b[39m::\u001b[32mdata_frame()\u001b[39m masks \u001b[34mdplyr\u001b[39m::data_frame(), \u001b[34mvctrs\u001b[39m::data_frame()\n",
            "\u001b[31m✖\u001b[39m \u001b[34mdplyr\u001b[39m::\u001b[32mfilter()\u001b[39m      masks \u001b[34mstats\u001b[39m::filter()\n",
            "\u001b[31m✖\u001b[39m \u001b[34mdplyr\u001b[39m::\u001b[32mlag()\u001b[39m         masks \u001b[34mstats\u001b[39m::lag()\n",
            "\n",
            "Installing package into ‘/usr/local/lib/R/site-library’\n",
            "(as ‘lib’ is unspecified)\n",
            "\n"
          ]
        },
        {
          "output_type": "error",
          "ename": "ERROR",
          "evalue": "ignored",
          "traceback": [
            "Error in library(reshape): there is no package called ‘reshape’\nTraceback:\n",
            "1. library(reshape)"
          ]
        }
      ]
    },
    {
      "cell_type": "markdown",
      "source": [
        "#4) Use correlations between rows to find the closest pairs (top 5, most positively correlated)\n",
        "\n",
        "correlation is which tissues have most similar expressions of a gene\n",
        "\n",
        "   Are these close because they vary a lot between the groups or are they close because they don't vary much ?\n",
        "correlation of gene expression values between tissue types. when gene expression values are positively correlated, the tissue types(groups), have little variation. correlation test is looking at how similar the gene expression values are between tissues. so when two different tissues are expressing the same gene, how similar are those expression levels.the groups are closely correlated because there is not much variation in expression level.\n",
        "\n",
        "top 5 closest correlations\n",
        "\n",
        "\n",
        "\n",
        "sorted.meltcorr shows correlations and their coefficients in order of most positively correlated to least correlated. there are no negatives.\n",
        "\n",
        "get rid of the first 8 rows because they are just the same samples correlated with each other. this is redundant. \n",
        "\n",
        "\n",
        "\n",
        "\n",
        "The correlations of 1 redundant. they are the same tissue and same genes, so remove correlations of 1. "
      ],
      "metadata": {
        "id": "mzyPCnagbAyO"
      }
    },
    {
      "cell_type": "code",
      "source": [
        "#pull top 5 highest correlation values\n",
        "sorted.meltcorr2.ev[1:5,]\n"
      ],
      "metadata": {
        "id": "Z2uhlta7_dfF",
        "colab": {
          "base_uri": "https://localhost:8080/",
          "height": 96
        },
        "outputId": "d89630d0-7ca0-4a9c-b1e2-fe7f4d6f12f4"
      },
      "execution_count": null,
      "outputs": [
        {
          "output_type": "error",
          "ename": "ERROR",
          "evalue": "ignored",
          "traceback": [
            "Error in eval(expr, envir, enclos): object 'sorted.meltcorr2.ev' not found\nTraceback:\n"
          ]
        }
      ]
    },
    {
      "cell_type": "code",
      "source": [
        "install.packages('lineup')\n",
        "#lining up the expression data with the gene data.\n",
        "\n",
        "library(lineup)\n",
        "\n",
        "\n",
        "#findCommonID finds individuals that are in common between the two data sets\n",
        "#returns an object containing indices for the two data sets to get them to line up (omits data that appears in one set but not the other)\n",
        "\n",
        "\n",
        "id<-findCommonID(sorted.meltcorr_1, mcountdata)\n",
        "#subset the rows in sorted.meltcorr_1 with the IDs in id, so the rows correspond to rows in mcountdata. this will pair the correlation values with the gene.\n",
        "subcorr=c(sorted.meltcorr_1[id$first,], mcountdata[id$second,], what=\"paired\")\n",
        "lineup.subcorr=data.frame(subcorr)\n",
        "\n",
        "#pull top 5 rows for top 5 correlation values and their gene IDs\n",
        "lineup.subcorr[1:5,]"
      ],
      "metadata": {
        "id": "8988rnus_3Wz",
        "colab": {
          "base_uri": "https://localhost:8080/",
          "height": 362
        },
        "outputId": "067bbcfe-0cf5-4890-bf77-17ddc6e030c5"
      },
      "execution_count": null,
      "outputs": [
        {
          "output_type": "stream",
          "name": "stderr",
          "text": [
            "Installing package into ‘/usr/local/lib/R/site-library’\n",
            "(as ‘lib’ is unspecified)\n",
            "\n",
            "also installing the dependency ‘qtl’\n",
            "\n",
            "\n"
          ]
        },
        {
          "output_type": "display_data",
          "data": {
            "text/html": [
              "<table class=\"dataframe\">\n",
              "<caption>A data.frame: 5 × 15</caption>\n",
              "<thead>\n",
              "\t<tr><th></th><th scope=col>Var1</th><th scope=col>Var2</th><th scope=col>colname</th><th scope=col>cor</th><th scope=col>Gene</th><th scope=col>aboral1</th><th scope=col>aboral2</th><th scope=col>aboral3</th><th scope=col>aboral4</th><th scope=col>oral1</th><th scope=col>oral2</th><th scope=col>oral3</th><th scope=col>oral4</th><th scope=col>expmean</th><th scope=col>what</th></tr>\n",
              "\t<tr><th></th><th scope=col>&lt;fct&gt;</th><th scope=col>&lt;fct&gt;</th><th scope=col>&lt;chr&gt;</th><th scope=col>&lt;dbl&gt;</th><th scope=col>&lt;chr&gt;</th><th scope=col>&lt;int&gt;</th><th scope=col>&lt;int&gt;</th><th scope=col>&lt;int&gt;</th><th scope=col>&lt;int&gt;</th><th scope=col>&lt;int&gt;</th><th scope=col>&lt;int&gt;</th><th scope=col>&lt;int&gt;</th><th scope=col>&lt;int&gt;</th><th scope=col>&lt;dbl&gt;</th><th scope=col>&lt;chr&gt;</th></tr>\n",
              "</thead>\n",
              "<tbody>\n",
              "\t<tr><th scope=row>1</th><td>aboral4</td><td>aboral2</td><td>value</td><td>0.9747975</td><td>ML000111a</td><td>  0</td><td>  0</td><td>  0</td><td>  0</td><td>  0</td><td>  1</td><td>  0</td><td>  0</td><td>  0.125</td><td>paired</td></tr>\n",
              "\t<tr><th scope=row>2</th><td>aboral2</td><td>aboral4</td><td>value</td><td>0.9747975</td><td>ML000112a</td><td>  1</td><td> 10</td><td>  8</td><td>  3</td><td>  2</td><td> 13</td><td>  6</td><td>  1</td><td>  5.500</td><td>paired</td></tr>\n",
              "\t<tr><th scope=row>3</th><td>aboral3</td><td>aboral2</td><td>value</td><td>0.9720700</td><td>ML000113a</td><td>383</td><td>546</td><td>402</td><td>471</td><td>290</td><td>190</td><td>282</td><td>317</td><td>360.125</td><td>paired</td></tr>\n",
              "\t<tr><th scope=row>4</th><td>aboral2</td><td>aboral3</td><td>value</td><td>0.9720700</td><td>ML000114a</td><td>188</td><td>214</td><td>257</td><td>230</td><td>289</td><td>215</td><td>162</td><td>128</td><td>210.375</td><td>paired</td></tr>\n",
              "\t<tr><th scope=row>5</th><td>oral2  </td><td>oral1  </td><td>value</td><td>0.9586231</td><td>ML000115a</td><td>493</td><td>455</td><td>540</td><td>501</td><td>413</td><td>403</td><td>419</td><td>452</td><td>459.500</td><td>paired</td></tr>\n",
              "</tbody>\n",
              "</table>\n"
            ],
            "text/markdown": "\nA data.frame: 5 × 15\n\n| <!--/--> | Var1 &lt;fct&gt; | Var2 &lt;fct&gt; | colname &lt;chr&gt; | cor &lt;dbl&gt; | Gene &lt;chr&gt; | aboral1 &lt;int&gt; | aboral2 &lt;int&gt; | aboral3 &lt;int&gt; | aboral4 &lt;int&gt; | oral1 &lt;int&gt; | oral2 &lt;int&gt; | oral3 &lt;int&gt; | oral4 &lt;int&gt; | expmean &lt;dbl&gt; | what &lt;chr&gt; |\n|---|---|---|---|---|---|---|---|---|---|---|---|---|---|---|---|\n| 1 | aboral4 | aboral2 | value | 0.9747975 | ML000111a |   0 |   0 |   0 |   0 |   0 |   1 |   0 |   0 |   0.125 | paired |\n| 2 | aboral2 | aboral4 | value | 0.9747975 | ML000112a |   1 |  10 |   8 |   3 |   2 |  13 |   6 |   1 |   5.500 | paired |\n| 3 | aboral3 | aboral2 | value | 0.9720700 | ML000113a | 383 | 546 | 402 | 471 | 290 | 190 | 282 | 317 | 360.125 | paired |\n| 4 | aboral2 | aboral3 | value | 0.9720700 | ML000114a | 188 | 214 | 257 | 230 | 289 | 215 | 162 | 128 | 210.375 | paired |\n| 5 | oral2   | oral1   | value | 0.9586231 | ML000115a | 493 | 455 | 540 | 501 | 413 | 403 | 419 | 452 | 459.500 | paired |\n\n",
            "text/latex": "A data.frame: 5 × 15\n\\begin{tabular}{r|lllllllllllllll}\n  & Var1 & Var2 & colname & cor & Gene & aboral1 & aboral2 & aboral3 & aboral4 & oral1 & oral2 & oral3 & oral4 & expmean & what\\\\\n  & <fct> & <fct> & <chr> & <dbl> & <chr> & <int> & <int> & <int> & <int> & <int> & <int> & <int> & <int> & <dbl> & <chr>\\\\\n\\hline\n\t1 & aboral4 & aboral2 & value & 0.9747975 & ML000111a &   0 &   0 &   0 &   0 &   0 &   1 &   0 &   0 &   0.125 & paired\\\\\n\t2 & aboral2 & aboral4 & value & 0.9747975 & ML000112a &   1 &  10 &   8 &   3 &   2 &  13 &   6 &   1 &   5.500 & paired\\\\\n\t3 & aboral3 & aboral2 & value & 0.9720700 & ML000113a & 383 & 546 & 402 & 471 & 290 & 190 & 282 & 317 & 360.125 & paired\\\\\n\t4 & aboral2 & aboral3 & value & 0.9720700 & ML000114a & 188 & 214 & 257 & 230 & 289 & 215 & 162 & 128 & 210.375 & paired\\\\\n\t5 & oral2   & oral1   & value & 0.9586231 & ML000115a & 493 & 455 & 540 & 501 & 413 & 403 & 419 & 452 & 459.500 & paired\\\\\n\\end{tabular}\n",
            "text/plain": [
              "  Var1    Var2    colname cor       Gene      aboral1 aboral2 aboral3 aboral4\n",
              "1 aboral4 aboral2 value   0.9747975 ML000111a   0       0       0       0    \n",
              "2 aboral2 aboral4 value   0.9747975 ML000112a   1      10       8       3    \n",
              "3 aboral3 aboral2 value   0.9720700 ML000113a 383     546     402     471    \n",
              "4 aboral2 aboral3 value   0.9720700 ML000114a 188     214     257     230    \n",
              "5 oral2   oral1   value   0.9586231 ML000115a 493     455     540     501    \n",
              "  oral1 oral2 oral3 oral4 expmean what  \n",
              "1   0     1     0     0     0.125 paired\n",
              "2   2    13     6     1     5.500 paired\n",
              "3 290   190   282   317   360.125 paired\n",
              "4 289   215   162   128   210.375 paired\n",
              "5 413   403   419   452   459.500 paired"
            ]
          },
          "metadata": {}
        }
      ]
    },
    {
      "cell_type": "markdown",
      "source": [
        "Top 5 highest correlation values with corresponding genes:\n",
        "1 aboral4\taboral2\tvalue\t0.9747975\tML000111a\t\n",
        "2\taboral2\taboral4\tvalue\t0.9747975\tML000112a\t\n",
        "3\taboral3\taboral2\tvalue\t0.9720700\tML000113a\t\n",
        "4\taboral2\taboral3\tvalue\t0.9720700\tML000114a\t\n",
        "5\toral2\t  oral1  \tvalue\t0.9586231\tML000115a\n"
      ],
      "metadata": {
        "id": "beE6iZUa7Bot"
      }
    },
    {
      "cell_type": "markdown",
      "source": [
        "The top 5 highest correlation values are:\n",
        "2 aboral4\taboral2\tvalue\t0.9747975\n",
        "3\taboral2\taboral4\tvalue\t0.9747975\n",
        "4\taboral3\taboral2\tvalue\t0.9720700\n",
        "5\taboral2\taboral3\tvalue\t0.9720700\n",
        "6\toral2\t  oral1 \tvalue\t0.9586231"
      ],
      "metadata": {
        "id": "zieNVwsK_jWY"
      }
    },
    {
      "cell_type": "markdown",
      "source": [
        " 4) Are these close because they vary a lot between the groups or are they close because they don't vary much ?\n",
        "\n",
        "correlation of gene expression values between tissue types. when gene expression values are positively correlated, the tissue types, (groups), have little variation. correlation test is looking at how similar the gene expression values are between tissues. so when two different tissues are expressing the same gene, how similar are those expression levels.\n",
        "\n",
        "the groups are closely correlated because there is not much variation in expression level."
      ],
      "metadata": {
        "id": "4s76aWadzykG"
      }
    },
    {
      "cell_type": "markdown",
      "source": [
        "Q1. What are the top 5 genes with the highest average expression (across experiments) in the set? What is their function?\n",
        "\n",
        "- The top 5 genes with the highest average expression across experiments are as follows: ML20395a, ML26358a, ML46651a, ML020045a, and ML00017a.\n",
        "\n",
        "- Their functions are as follows:\n",
        "- ML20395a: Elongation factor 1-alpha (translation)\n",
        "- ML26358a: Actin (major protein constituent of cytoskeleton->microfilaments; also for thin filaments in muscle fibrils)\n",
        "- ML46651a: Membrane attack complex? (according to Argot2; no other results)\n",
        "- ML020045a: Tubulin beta chain (second protein component of microtubule)\n",
        "- ML00017a: Elongation factor 2 (translation)\n",
        "\n",
        "\n",
        "\n",
        "Q2. Are the top 5 genes different if done on a per-column basis?\n",
        "\n",
        "OG TOP 5 GENES ARE: ML20395a, ML26358a, ML46651a, ML020045a, and ML00017a\n",
        "\n",
        "\n",
        "(S) = same; (D) = different\n",
        "- When sorted on a per-column basis, the top 5 genes differ as follows:\n",
        "- aboral1: ML46651a(S), ML20395a(S), ML020045a(S), ML174731a(D),ML26358a(S)\n",
        "- aboral2: ML20395a(S),ML46651a(S),ML26358a(S),ML01482a(D),ML034334a(D)\n",
        "- aboral3: ML20395a(S),ML01482a(D),ML26358a(S),ML46651a(S),ML034334a(D)\n",
        "- aboral4: ML01482a(D),ML20395a(S),ML034334a(D),ML46651a(S),ML034336a(D)\n",
        "- oral1: ML20395a(S),ML020045a(S),ML04011a(D),ML26358a(S),ML00017a(S)\n",
        "- oral2: ML20395a(S),ML020045a(S),ML04011a(D),ML00017a(S),ML26358a(S)\n",
        "- oral3: ML20395a(S),ML004510a(D),ML26358a(S),ML00017a(S),ML04011a(D)\n",
        "- oral4: ML20395a(S),ML004510a(D),ML46651a(S),ML020045a(S),ML00017a(S)\n",
        "\n",
        "-- Yes, the top 5 genes vary depending if it is done on a per-column basis. Many of the original top 5 genes reappear in these newly generated \n",
        "\"top 5\" gene sets, but each column has 1-3 different genes in its \"top 5\" listing. "
      ],
      "metadata": {
        "id": "yyvDXoBmlhtB"
      }
    },
    {
      "cell_type": "code",
      "source": [
        "```{r}\n",
        "library(reshape2)\n",
        "library(dplyr)\n",
        "#unmelt the data and plot it\n",
        "#cast.sorted.corr=dcast(sorted.meltcorr_1, X1 ~ X2)\n",
        "corrplot(corr.mcountdata,# corrplot graphic without diagonal(eliminating corr=1)\n",
        "         diag = FALSE)"
      ],
      "metadata": {
        "id": "V7DOzovybuq3",
        "colab": {
          "base_uri": "https://localhost:8080/",
          "height": 97
        },
        "outputId": "8da8bbd4-b261-4a11-c34e-a6c14b1217b6"
      },
      "execution_count": null,
      "outputs": [
        {
          "output_type": "error",
          "ename": "ERROR",
          "evalue": "ignored",
          "traceback": [
            "Error in parse(text = x, srcfile = src): attempt to use zero-length variable name\nTraceback:\n"
          ]
        }
      ]
    },
    {
      "cell_type": "markdown",
      "source": [
        "The correlogram represents the correlations for all pairs of variables. Positive correlations are displayed in blue and negative correlations in red,The intensity of the color is proportional to the correlation coefficient so the stronger the correlation.\n",
        "\n",
        "the closer the correlation coefficient is to +1 or -1, the stronger the correlation\n",
        "so find top 5 correlation coefficients that are closest to +1 or -1 (positively or negatively correlated). \n",
        "(top 5 most correlated data points)\n",
        "\n",
        "all correlations are positive. \n",
        "correlations of 1 are excluded. "
      ],
      "metadata": {
        "id": "z0NOFwAAby9n"
      }
    },
    {
      "cell_type": "code",
      "source": [
        "##5) If you were forced to divide the genes in each column into high,\n",
        "#medium and low count genes, how would you do this based on the data that you have?\n",
        "\n",
        "#first plot the data to see the distribution of gene expression\n",
        "library(ggplot2)\n",
        "ggplot(mcountdata, aes(x=Gene,y= expmean)) +\n",
        "  geom_point() "
      ],
      "metadata": {
        "colab": {
          "base_uri": "https://localhost:8080/",
          "height": 437
        },
        "id": "9cOb4MYZz2pY",
        "outputId": "d34a260b-c7bd-474f-8938-c76b706e0d05"
      },
      "execution_count": null,
      "outputs": [
        {
          "output_type": "display_data",
          "data": {
            "text/plain": [
              "plot without title"
            ],
            "image/png": "[encoded data removed]"
          },
          "metadata": {
            "image/png": {
              "width": 420,
              "height": 420
            }
          }
        }
      ]
    },
    {
      "cell_type": "code",
      "source": [
        "#6) make a list of the top 5 genes with most variability and top 5 genes with least variability (exclude genes that have low expression values)\n",
        "\n",
        "\n",
        "#perform differential expression before filtering by variance so you are using normalized counts.\n",
        "#must do between-sample normalization, which is needed to account for technical effects (differences not because of the biological conditions of interest) that prevent read count data from accurately reflecting differences in expression.\n",
        "#for this we will do DESeq differential expression\n",
        "\n",
        "#read in with no header\n",
        "coldata<-read.csv(\"Mnemiopsis_col_data.csv\")\n",
        "countdata<-read.csv(\"Mnemiopsis_count_data.csv\")\n",
        "\n",
        "\n",
        "\n",
        "#be sure all colnames in count data are in col data\n",
        "all(colnames(countdata))%in%rownames(coldata)\n",
        "\n",
        "#make gene column in countdata into the rownames instead of it's own column\n",
        "#do the same with the sample column in count data\n",
        "library(tidyverse)\n",
        "coldata <- data.frame(coldata, row.names = 1)#set the first column to the row names\n",
        "countdata <- data.frame(countdata, row.names = 1)\n",
        "\n",
        "#rename columns in count data to be the rownames in coldata\n",
        "colnames(countdata)=rownames(coldata)\n",
        "\n",
        "print(rownames(coldata))\n",
        "print(colnames(countdata))\n",
        "#the rownames in col data are the same as the colnames in countdata\n",
        "\n",
        "#now make sure they are in the same order\n",
        "all(colnames(countdata)==rownames(coldata))\n",
        "\n",
        "\n",
        "library(DESeq2)\n",
        "library(tidyverse)\n",
        "library(airway)\n",
        "\n",
        "#construct DESeq2 data set\n",
        "dds<-DESeqDataSetFromMatrix(countData=countdata, \n",
        "                       colData = coldata, \n",
        "                       design = ~condition)\n",
        "\n",
        "dds\n",
        "#design is the factor in mcoldata that specifies the condition of the samples. as in if they are treated or untreated, ets. the name condition id from the last column in mcoldata\n"
      ],
      "metadata": {
        "id": "KrXAhQAb2xJP",
        "colab": {
          "base_uri": "https://localhost:8080/",
          "height": 275
        },
        "outputId": "69287fb3-8254-4144-dc5b-f292ebd6e918"
      },
      "execution_count": null,
      "outputs": [
        {
          "output_type": "stream",
          "name": "stderr",
          "text": [
            "Warning message in all(colnames(countdata)):\n",
            "“coercing argument of type 'character' to logical”\n"
          ]
        },
        {
          "output_type": "display_data",
          "data": {
            "text/html": [
              "FALSE"
            ],
            "text/markdown": "FALSE",
            "text/latex": "FALSE",
            "text/plain": [
              "[1] FALSE"
            ]
          },
          "metadata": {}
        },
        {
          "output_type": "stream",
          "name": "stdout",
          "text": [
            "[1] \"aboral-1\" \"aboral-2\" \"aboral-3\" \"aboral-4\" \"oral-1\"   \"oral-2\"   \"oral-3\"  \n",
            "[8] \"oral-4\"  \n",
            "[1] \"aboral-1\" \"aboral-2\" \"aboral-3\" \"aboral-4\" \"oral-1\"   \"oral-2\"   \"oral-3\"  \n",
            "[8] \"oral-4\"  \n"
          ]
        },
        {
          "output_type": "display_data",
          "data": {
            "text/html": [
              "TRUE"
            ],
            "text/markdown": "TRUE",
            "text/latex": "TRUE",
            "text/plain": [
              "[1] TRUE"
            ]
          },
          "metadata": {}
        },
        {
          "output_type": "error",
          "ename": "ERROR",
          "evalue": "ignored",
          "traceback": [
            "Error in library(DESeq2): there is no package called ‘DESeq2’\nTraceback:\n",
            "1. library(DESeq2)"
          ]
        }
      ]
    },
    {
      "cell_type": "code",
      "source": [
        "#set a factor level. compare between aboral and oral samples. we need to tell deseq to use one as a reference level so you can compare the two tissue types. here we will use aboral as the reference. \n",
        "dds$condition<- relevel(dds$condition, ref = \"aboral\")\n",
        "#this would have been the case either way because it assigns a reference level alphabetically, but its nice to know how to do"
      ],
      "metadata": {
        "id": "jrNEs0O92zom",
        "colab": {
          "base_uri": "https://localhost:8080/",
          "height": 133
        },
        "outputId": "86becfab-074f-46c1-b9b8-5ccf6c4ff834"
      },
      "execution_count": null,
      "outputs": [
        {
          "output_type": "error",
          "ename": "ERROR",
          "evalue": "ignored",
          "traceback": [
            "Error in relevel(dds$condition, ref = \"aboral\"): object 'dds' not found\nTraceback:\n",
            "1. relevel(dds$condition, ref = \"aboral\")"
          ]
        }
      ]
    },
    {
      "cell_type": "code",
      "source": [
        "#run DESeq\n",
        "#save it back to the same object\n",
        "dds<-DESeq(dds)\n",
        "res<-results(dds)\n",
        "res"
      ],
      "metadata": {
        "id": "tfE5LOIy22uA",
        "colab": {
          "base_uri": "https://localhost:8080/",
          "height": 97
        },
        "outputId": "828d32b4-da1e-4818-dce5-441c458708e3"
      },
      "execution_count": null,
      "outputs": [
        {
          "output_type": "error",
          "ename": "ERROR",
          "evalue": "ignored",
          "traceback": [
            "Error in DESeq(dds): could not find function \"DESeq\"\nTraceback:\n"
          ]
        }
      ]
    },
    {
      "cell_type": "markdown",
      "source": [
        "log2fold change column: positive values are up regulated genes, negative values are down regulated.\n"
      ],
      "metadata": {
        "id": "mIgVt2TN27T3"
      }
    },
    {
      "cell_type": "code",
      "source": [
        "summary(res)\n",
        "#we can adjust the pvalue so as not to detect false potives\n",
        "re0.01<-results(dds, alpha = 0.01)\n",
        "summary(re0.01)"
      ],
      "metadata": {
        "id": "SjirgYbU28DL",
        "colab": {
          "base_uri": "https://localhost:8080/",
          "height": 133
        },
        "outputId": "0f2605b5-0195-4ee1-e6d6-20ba6a132a97"
      },
      "execution_count": null,
      "outputs": [
        {
          "output_type": "error",
          "ename": "ERROR",
          "evalue": "ignored",
          "traceback": [
            "Error in summary(res): object 'res' not found\nTraceback:\n",
            "1. summary(res)"
          ]
        }
      ]
    },
    {
      "cell_type": "markdown",
      "source": [
        "summary shows how many genes are up and down regulated, how many are outliers, etc. "
      ],
      "metadata": {
        "id": "EbLfrHR23Dmv"
      }
    },
    {
      "cell_type": "code",
      "source": [
        "resultsNames(dds)"
      ],
      "metadata": {
        "id": "T-uXGw1B3Ekk"
      },
      "execution_count": null,
      "outputs": []
    },
    {
      "cell_type": "code",
      "source": [
        "#visualize data that is up and down regulated\n",
        "plotMA(res)"
      ],
      "metadata": {
        "id": "QzGGIIHm3HTy"
      },
      "execution_count": null,
      "outputs": []
    },
    {
      "cell_type": "markdown",
      "source": [
        "this plot tells us the genes that are differentially expressed. significantly differentially expressed genes,(in blue) \n",
        "the blue has adjusted p value of less than 0.05.\n",
        "\n",
        "the triangles indicate the genes have higher fold changes. direction of the triangles tells you the direction of the fold change. \n",
        "\n",
        "we want to see genes in the upper right or lower right quadrant because this means the genes have high means of normalized counts and high log fold changes. these are interesting genes to be looked in to. \n"
      ],
      "metadata": {
        "id": "51WW8Ijv3JOP"
      }
    },
    {
      "cell_type": "markdown",
      "source": [
        "most of the data is between an expmean of 0 and 25000. therefore to divide the data into three groups, you must decide on a cutoff for low medium and high. the genes cannot be equally divided into three groups. \n"
      ],
      "metadata": {
        "id": "mn9ToZwgz77j"
      }
    },
    {
      "cell_type": "code",
      "source": [
        "#variability, top 5 genes with the highest variability\n",
        "sel_high = order(apply(re0.01, 1, var), decreasing=TRUE)[1:5]\n",
        "sel_high\n",
        "\n",
        "#top 5 genes with the lowest variability\n",
        "sel_low = order(apply(re0.01, 1, var), decreasing=FALSE)[1:5]\n",
        "sel_low"
      ],
      "metadata": {
        "id": "uIwvOLKoUpon"
      },
      "execution_count": null,
      "outputs": []
    },
    {
      "cell_type": "markdown",
      "source": [
        "these numbers are the indicies to re0.01"
      ],
      "metadata": {
        "id": "5fpwdvUuUtcQ"
      }
    },
    {
      "cell_type": "code",
      "source": [
        "#print the indicies from re0.01 to get the genes with the top 5 highest and lowest variability\n",
        "\n",
        "#highest variability indicies\n",
        "print(re0.01[11025,])\n",
        "print(re0.01[12343,])\n",
        "print(re0.01[14204,])\n",
        "print(re0.01[2298,])\n",
        "print(re0.01[27,])\n",
        "\n",
        "\n",
        "#lowest variability indices\n",
        "print(re0.01[13108,])\n",
        "print(re0.01[12839,])\n",
        "print(re0.01[10103,])\n",
        "print(re0.01[8197,])\n",
        "print(re0.01[12160,])"
      ],
      "metadata": {
        "id": "kcdZoUPPUuyD"
      },
      "execution_count": null,
      "outputs": []
    },
    {
      "cell_type": "markdown",
      "source": [
        "highest variability genes from greatest variability to least: ML20395a, ML26358a, ML46651a, ML020045a, ML00017a\n",
        "\n",
        "lowest variability genes from least variability to greatest: ML32095a, ML29351a, ML16594a, ML11345a, ML25222a"
      ],
      "metadata": {
        "id": "5uGEfQ9ZUxNS"
      }
    }
  ]
}